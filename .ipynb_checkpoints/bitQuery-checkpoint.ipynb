{
 "cells": [
  {
   "cell_type": "code",
   "execution_count": 5,
   "metadata": {},
   "outputs": [],
   "source": [
    "import requests"
   ]
  },
  {
   "cell_type": "code",
   "execution_count": 6,
   "metadata": {},
   "outputs": [],
   "source": [
    "def run_query(query):  # A simple function to use requests.post to make the API call.\n",
    "    headers = {'X-API-KEY': 'BQYd6qf95gjz6MU3FTP9yQegkGVkuQ4r'}\n",
    "    request = requests.post('https://graphql.bitquery.io/',\n",
    "                            json={'query': query}, headers=headers)\n",
    "    if request.status_code == 200:\n",
    "        return request.json()\n",
    "    else:\n",
    "        raise Exception('Query failed and return code is {}.      {}'.format(request.status_code,\n",
    "                        query))"
   ]
  },
  {
   "cell_type": "code",
   "execution_count": 14,
   "metadata": {},
   "outputs": [],
   "source": [
    "xrt  = \"0x7de91b204c1c737bcee6f000aaa6569cf7061cb7\"\n",
    "weth = \"0xc02aaa39b223fe8d0a0e5c4f27ead9083c756cc2\"\n",
    "date = \"2020-07-05 06:40:02\"\n",
    "eht_a = 0.341172238243499968\n",
    "xrt_a = 34.767359866        "
   ]
  },
  {
   "cell_type": "code",
   "execution_count": 16,
   "metadata": {},
   "outputs": [
    {
     "data": {
      "text/plain": [
       "0.009813003908218584"
      ]
     },
     "execution_count": 16,
     "metadata": {},
     "output_type": "execute_result"
    }
   ],
   "source": [
    "eht_a/xrt_a"
   ]
  },
  {
   "cell_type": "code",
   "execution_count": 33,
   "metadata": {},
   "outputs": [],
   "source": [
    "query = \"\"\"{\n",
    "  ethereum(network: ethereum) {\n",
    "    dexTrades(\n",
    "      options: {limit: 10, asc: \"timeInterval.minute\"}\n",
    "      exchangeName: {is: \"Uniswap\"}\n",
    "      baseCurrency: {is: \"0x7de91b204c1c737bcee6f000aaa6569cf7061cb7\"}\n",
    "      quoteCurrency: {is: \"0xc02aaa39b223fe8d0a0e5c4f27ead9083c756cc2\"}\n",
    "      height: {is: 10401045}\n",
    "    ) {\n",
    "      timeInterval {\n",
    "        minute(count: 5)\n",
    "      }\n",
    "      baseCurrency {\n",
    "        symbol\n",
    "        address\n",
    "      }\n",
    "      baseAmount\n",
    "      quoteCurrency {\n",
    "        symbol\n",
    "        address\n",
    "      }\n",
    "      quoteAmount\n",
    "      trades: count\n",
    "      quotePrice\n",
    "      maximum_price: quotePrice(calculate: maximum)\n",
    "      minimum_price: quotePrice(calculate: minimum)\n",
    "      open_price: minimum(of: block, get: quote_price)\n",
    "      close_price: maximum(of: block, get: quote_price)\n",
    "    }\n",
    "  }\n",
    "}\"\"\""
   ]
  },
  {
   "cell_type": "code",
   "execution_count": 34,
   "metadata": {},
   "outputs": [
    {
     "ename": "Exception",
     "evalue": "Query failed and return code is 500.      {\n  ethereum(network: ethereum) {\n    dexTrades(\n      options: {limit: 100, asc: \"timeInterval.second\"}\n      block(height: {is: 10401045})\n      exchangeName: {is: \"Uniswap\"}\n      baseCurrency: {is: \"0x7de91b204c1c737bcee6f000aaa6569cf7061cb7\"}\n      quoteCurrency: {is: \"0xc02aaa39b223fe8d0a0e5c4f27ead9083c756cc2\"}\n      \n    ) {\n      timeInterval {\n        second(count: 1)\n      }\n      baseCurrency {\n        symbol\n        address\n      }\n      baseAmount\n      quoteCurrency {\n        symbol\n        address\n      }\n      quoteAmount\n      trades: count\n      quotePrice\n      maximum_price: quotePrice(calculate: maximum)\n      minimum_price: quotePrice(calculate: minimum)\n      open_price: minimum(of: block, get: quote_price)\n      close_price: maximum(of: block, get: quote_price)\n      \n    }\n  }\n}",
     "output_type": "error",
     "traceback": [
      "\u001b[1;31m---------------------------------------------------------------------------\u001b[0m",
      "\u001b[1;31mException\u001b[0m                                 Traceback (most recent call last)",
      "\u001b[1;32m<ipython-input-34-b3446e919522>\u001b[0m in \u001b[0;36m<module>\u001b[1;34m\u001b[0m\n\u001b[1;32m----> 1\u001b[1;33m \u001b[0mrun_query\u001b[0m\u001b[1;33m(\u001b[0m\u001b[0mquery\u001b[0m\u001b[1;33m)\u001b[0m\u001b[1;33m\u001b[0m\u001b[1;33m\u001b[0m\u001b[0m\n\u001b[0m",
      "\u001b[1;32m<ipython-input-6-06c4223ab4e7>\u001b[0m in \u001b[0;36mrun_query\u001b[1;34m(query)\u001b[0m\n\u001b[0;32m      6\u001b[0m         \u001b[1;32mreturn\u001b[0m \u001b[0mrequest\u001b[0m\u001b[1;33m.\u001b[0m\u001b[0mjson\u001b[0m\u001b[1;33m(\u001b[0m\u001b[1;33m)\u001b[0m\u001b[1;33m\u001b[0m\u001b[1;33m\u001b[0m\u001b[0m\n\u001b[0;32m      7\u001b[0m     \u001b[1;32melse\u001b[0m\u001b[1;33m:\u001b[0m\u001b[1;33m\u001b[0m\u001b[1;33m\u001b[0m\u001b[0m\n\u001b[1;32m----> 8\u001b[1;33m         raise Exception('Query failed and return code is {}.      {}'.format(request.status_code,\n\u001b[0m\u001b[0;32m      9\u001b[0m                         query))\n",
      "\u001b[1;31mException\u001b[0m: Query failed and return code is 500.      {\n  ethereum(network: ethereum) {\n    dexTrades(\n      options: {limit: 100, asc: \"timeInterval.second\"}\n      block(height: {is: 10401045})\n      exchangeName: {is: \"Uniswap\"}\n      baseCurrency: {is: \"0x7de91b204c1c737bcee6f000aaa6569cf7061cb7\"}\n      quoteCurrency: {is: \"0xc02aaa39b223fe8d0a0e5c4f27ead9083c756cc2\"}\n      \n    ) {\n      timeInterval {\n        second(count: 1)\n      }\n      baseCurrency {\n        symbol\n        address\n      }\n      baseAmount\n      quoteCurrency {\n        symbol\n        address\n      }\n      quoteAmount\n      trades: count\n      quotePrice\n      maximum_price: quotePrice(calculate: maximum)\n      minimum_price: quotePrice(calculate: minimum)\n      open_price: minimum(of: block, get: quote_price)\n      close_price: maximum(of: block, get: quote_price)\n      \n    }\n  }\n}"
     ]
    }
   ],
   "source": [
    "run_query(query)"
   ]
  },
  {
   "cell_type": "code",
   "execution_count": null,
   "metadata": {},
   "outputs": [],
   "source": [
    "date = \"2020-07-05 06:40:02\""
   ]
  }
 ],
 "metadata": {
  "kernelspec": {
   "display_name": "Python 3",
   "language": "python",
   "name": "python3"
  },
  "language_info": {
   "codemirror_mode": {
    "name": "ipython",
    "version": 3
   },
   "file_extension": ".py",
   "mimetype": "text/x-python",
   "name": "python",
   "nbconvert_exporter": "python",
   "pygments_lexer": "ipython3",
   "version": "3.8.5"
  }
 },
 "nbformat": 4,
 "nbformat_minor": 4
}
