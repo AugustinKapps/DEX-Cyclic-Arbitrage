{
 "cells": [
  {
   "cell_type": "code",
   "execution_count": 21,
   "metadata": {},
   "outputs": [],
   "source": [
    "import json\n",
    "import pandas as pd\n",
    "from datetime import datetime\n",
    "from fake_useragent import UserAgent\n",
    "import requests\n",
    "import re\n",
    "import numpy as np\n",
    "import matplotlib.pyplot as plt\n",
    "\n",
    "plt.style.use('ggplot')"
   ]
  },
  {
   "cell_type": "code",
   "execution_count": 22,
   "metadata": {},
   "outputs": [],
   "source": [
    "def hash_cycle(cycle):\n",
    "    res = 0\n",
    "    for token in cycle:\n",
    "        res+=int(token,16)\n",
    "    return res"
   ]
  },
  {
   "cell_type": "code",
   "execution_count": 23,
   "metadata": {},
   "outputs": [],
   "source": [
    "cycle_length = 6"
   ]
  },
  {
   "cell_type": "markdown",
   "metadata": {},
   "source": [
    "# cycles distribution\n",
    "we see how many different cycles compose our restrained (lenth = 3 swaps) dataset"
   ]
  },
  {
   "cell_type": "code",
   "execution_count": 24,
   "metadata": {},
   "outputs": [],
   "source": [
    "all_cycles_path = \"Data/cycles\""
   ]
  },
  {
   "cell_type": "code",
   "execution_count": 25,
   "metadata": {},
   "outputs": [],
   "source": [
    "different_cycles = {}\n",
    "for line in open(all_cycles_path):\n",
    "    path = json.loads(line)[\"path\"]\n",
    "    if len(path)==cycle_length:\n",
    "        cycle_hash = hash_cycle(path)\n",
    "        if cycle_hash not in different_cycles:\n",
    "            different_cycles[cycle_hash]=0\n",
    "        different_cycles[cycle_hash]+=1"
   ]
  },
  {
   "cell_type": "code",
   "execution_count": 26,
   "metadata": {},
   "outputs": [
    {
     "data": {
      "image/png": "[encoded data removed]",
      "text/plain": [
       "<Figure size 432x288 with 1 Axes>"
      ]
     },
     "metadata": {},
     "output_type": "display_data"
    }
   ],
   "source": [
    "plt.hist(list(different_cycles.values()),bins=50)\n",
    "#plt.xscale(\"log\")\n",
    "plt.yscale(\"log\")\n",
    "plt.xlabel(\"cycle hash\")\n",
    "plt.ylabel(\"count\")\n",
    "plt.show()"
   ]
  },
  {
   "cell_type": "code",
   "execution_count": 27,
   "metadata": {},
   "outputs": [
    {
     "name": "stdout",
     "output_type": "stream",
     "text": [
      "top 5 cycles and their hashs\n"
     ]
    },
    {
     "data": {
      "text/plain": [
       "[(4905955156809171494002422751837224513764394965760, 4931),\n",
       " (3730882822284192223036450845050968439005857317622, 4903),\n",
       " (4389807248672491020845394725943025045003422034288, 3837),\n",
       " (5013975839320635475748850689609933254072251761158, 3725),\n",
       " (3209905518692170303730419848504774004257765074842, 3458)]"
      ]
     },
     "execution_count": 27,
     "metadata": {},
     "output_type": "execute_result"
    }
   ],
   "source": [
    "k=5\n",
    "print(f\"top {k} cycles and their hashs\")\n",
    "top_k =sorted(different_cycles.items(), key=lambda item: -item[1])[:k]\n",
    "top_k"
   ]
  },
  {
   "cell_type": "code",
   "execution_count": 28,
   "metadata": {},
   "outputs": [
    {
     "data": {
      "text/plain": [
       "[4905955156809171494002422751837224513764394965760,\n",
       " 3730882822284192223036450845050968439005857317622,\n",
       " 4389807248672491020845394725943025045003422034288,\n",
       " 5013975839320635475748850689609933254072251761158,\n",
       " 3209905518692170303730419848504774004257765074842]"
      ]
     },
     "execution_count": 28,
     "metadata": {},
     "output_type": "execute_result"
    }
   ],
   "source": [
    "top_k = [x[0] for x in top_k]\n",
    "top_k"
   ]
  },
  {
   "cell_type": "markdown",
   "metadata": {},
   "source": [
    "# Dataset filtering "
   ]
  },
  {
   "cell_type": "code",
   "execution_count": 29,
   "metadata": {},
   "outputs": [],
   "source": [
    "filtered_dataset_path = \"Data/filered_cycles.json\""
   ]
  },
  {
   "cell_type": "code",
   "execution_count": 30,
   "metadata": {},
   "outputs": [
    {
     "name": "stdout",
     "output_type": "stream",
     "text": [
      "20854  cycles saved\n"
     ]
    }
   ],
   "source": [
    "f_out = open(filtered_dataset_path,\"wt\")\n",
    "count = 0\n",
    "for line in open(all_cycles_path):\n",
    "    path = json.loads(line)[\"path\"]\n",
    "    cycle_hash = hash_cycle(path)\n",
    "    if len(path)==cycle_length and cycle_hash in top_k:\n",
    "        f_out.write(line)\n",
    "        count+=1\n",
    "f_out.close()\n",
    "print(count,\" cycles saved\")"
   ]
  },
  {
   "cell_type": "markdown",
   "metadata": {},
   "source": [
    "# Node statistics"
   ]
  },
  {
   "cell_type": "code",
   "execution_count": 31,
   "metadata": {},
   "outputs": [
    {
     "name": "stdout",
     "output_type": "stream",
     "text": [
      "11  different tokens and 20854  cycles are present in the data\n"
     ]
    }
   ],
   "source": [
    "all_tokens  = set()\n",
    "cycle_paths = []\n",
    "for line in open(filtered_dataset_path):\n",
    "    path = json.loads(line)[\"path\"]\n",
    "    cycle_paths.append(path)\n",
    "    for token in path:\n",
    "        all_tokens.add(token) \n",
    "print(len(all_tokens),\" different tokens and\" ,len(cycle_paths), \" cycles are present in the data\")"
   ]
  },
  {
   "cell_type": "markdown",
   "metadata": {},
   "source": [
    "# Fetching token names"
   ]
  },
  {
   "cell_type": "code",
   "execution_count": 32,
   "metadata": {},
   "outputs": [],
   "source": [
    "ua = UserAgent()\n",
    "header = {'User-Agent':str(ua.chrome)}\n",
    "\n",
    "def get_token_name(address):\n",
    "    url = f\"https://etherscan.io/token/{address}\"\n",
    "    htmlContent = requests.get(url, headers=header)\n",
    "    full_name = re.search(r'<meta name=\"Description\" content=\"(.*?)Token Tracker', htmlContent.text).group(1)\n",
    "    token_id  =  re.search(r'\\((.*?)\\)', full_name).group(1)\n",
    "    return token_id\n",
    "address_to_name = {}\n",
    "for address in all_tokens:\n",
    "    address_to_name[address] = get_token_name(address)"
   ]
  },
  {
   "cell_type": "code",
   "execution_count": 33,
   "metadata": {},
   "outputs": [
    {
     "data": {
      "text/plain": [
       "{'0x9b06D48E0529ecF05905fF52DD426ebEc0EA3011': 'XSP',\n",
       " '0x037A54AaB062628C9Bbae1FDB1583c195585fe41': 'LCX',\n",
       " '0x68A118Ef45063051Eac49c7e647CE5Ace48a68a5': '$BASED',\n",
       " '0xC02aaA39b223FE8D0A0e5C4F27eAD9083C756Cc2': 'WETH',\n",
       " '0x557B933a7C2c45672B610F8954A3deB39a51A8Ca': 'REVV',\n",
       " '0x5BEfBB272290dD5b8521D4a938f6c4757742c430': 'XFI',\n",
       " '0x57Ab1ec28D129707052df4dF418D58a2D46d5f51': 'sUSD',\n",
       " '0xdF5e0e81Dff6FAF3A7e52BA697820c5e32D806A8': 'Curve',\n",
       " '0x08AD83D779BDf2BBE1ad9cc0f78aa0D24AB97802': 'RWS',\n",
       " '0x7dE91B204C1C737bcEe6F000AAA6569Cf7061cb7': 'XRT',\n",
       " '0x0e2298E3B3390e3b945a5456fBf59eCc3f55DA16': 'YAM'}"
      ]
     },
     "execution_count": 33,
     "metadata": {},
     "output_type": "execute_result"
    }
   ],
   "source": [
    "address_to_name[\"0xdF5e0e81Dff6FAF3A7e52BA697820c5e32D806A8\"] = \"Curve\"\n",
    "address_to_name "
   ]
  },
  {
   "cell_type": "code",
   "execution_count": 39,
   "metadata": {},
   "outputs": [
    {
     "data": {
      "text/plain": [
       "[['WETH', 'XRT', 'XRT', 'RWS', 'RWS', 'WETH'],\n",
       " ['WETH', 'RWS', 'RWS', 'XRT', 'XRT', 'WETH'],\n",
       " ['WETH', 'YAM', 'YAM', 'Curve', 'Curve', 'WETH'],\n",
       " ['WETH', 'Curve', 'Curve', 'YAM', 'YAM', 'WETH'],\n",
       " ['WETH', 'sUSD', 'sUSD', '$BASED', '$BASED', 'WETH'],\n",
       " ['WETH', '$BASED', '$BASED', 'sUSD', 'sUSD', 'WETH'],\n",
       " ['$BASED', 'WETH', 'WETH', 'sUSD', 'sUSD', '$BASED'],\n",
       " ['WETH', 'LCX', 'LCX', 'REVV', 'REVV', 'WETH'],\n",
       " ['WETH', 'REVV', 'REVV', 'LCX', 'LCX', 'WETH'],\n",
       " ['$BASED', 'sUSD', 'sUSD', 'WETH', 'WETH', '$BASED'],\n",
       " ['sUSD', '$BASED', '$BASED', 'WETH', 'WETH', 'sUSD'],\n",
       " ['XRT', 'RWS', 'RWS', 'WETH', 'WETH', 'XRT'],\n",
       " ['WETH', 'XFI', 'XFI', 'XSP', 'XSP', 'WETH'],\n",
       " ['WETH', 'XSP', 'XSP', 'XFI', 'XFI', 'WETH'],\n",
       " ['RWS', 'XRT', 'XRT', 'WETH', 'WETH', 'RWS'],\n",
       " ['XSP', 'XFI', 'XFI', 'WETH', 'WETH', 'XSP'],\n",
       " ['XFI', 'XSP', 'XSP', 'WETH', 'WETH', 'XFI'],\n",
       " ['LCX', 'REVV', 'REVV', 'WETH', 'WETH', 'LCX'],\n",
       " ['REVV', 'LCX', 'LCX', 'WETH', 'WETH', 'REVV'],\n",
       " ['YAM', 'Curve', 'Curve', 'WETH', 'WETH', 'YAM'],\n",
       " ['Curve', 'YAM', 'YAM', 'WETH', 'WETH', 'Curve']]"
      ]
     },
     "execution_count": 39,
     "metadata": {},
     "output_type": "execute_result"
    }
   ],
   "source": [
    "unique_cycles = []\n",
    "\n",
    "for cycle in cycle_paths:\n",
    "    if not cycle in unique_cycles:\n",
    "        unique_cycles.append(cycle)\n",
    "unique_cycles = [[address_to_name[address] for address in cycle] for cycle in unique_cycles]\n",
    "unique_cycles"
   ]
  },
  {
   "cell_type": "code",
   "execution_count": 56,
   "metadata": {},
   "outputs": [],
   "source": [
    "def path_to_pairs(path,from_addresses = False):\n",
    "    pairs = set()\n",
    "    for i in range(0,int(len(path)/2),2):\n",
    "        t1,t2 = sorted(path[i:i+2])\n",
    "        if from_addresses:\n",
    "            pairs.add(f\"{address_to_name[t1]}_{address_to_name[t2]}\")\n",
    "        else:\n",
    "            pairs.add(f\"{t1}_{t2}\")\n",
    "    return pairs"
   ]
  },
  {
   "cell_type": "code",
   "execution_count": 57,
   "metadata": {},
   "outputs": [],
   "source": [
    "pairs = set()\n",
    "for path in unique_cycles:\n",
    "    pairs = pairs.union(path_to_pairs(path))"
   ]
  },
  {
   "cell_type": "code",
   "execution_count": 58,
   "metadata": {},
   "outputs": [
    {
     "data": {
      "text/plain": [
       "{'$BASED_WETH',\n",
       " '$BASED_sUSD',\n",
       " 'Curve_WETH',\n",
       " 'Curve_YAM',\n",
       " 'LCX_REVV',\n",
       " 'LCX_WETH',\n",
       " 'REVV_WETH',\n",
       " 'RWS_WETH',\n",
       " 'RWS_XRT',\n",
       " 'WETH_XFI',\n",
       " 'WETH_XRT',\n",
       " 'WETH_XSP',\n",
       " 'WETH_YAM',\n",
       " 'WETH_sUSD',\n",
       " 'XFI_XSP'}"
      ]
     },
     "execution_count": 58,
     "metadata": {},
     "output_type": "execute_result"
    }
   ],
   "source": [
    "pairs"
   ]
  },
  {
   "cell_type": "markdown",
   "metadata": {},
   "source": [
    "# some tx hashs"
   ]
  },
  {
   "cell_type": "code",
   "execution_count": 87,
   "metadata": {},
   "outputs": [
    {
     "name": "stdout",
     "output_type": "stream",
     "text": [
      "0xfff30a2ae736f084c8e2589a2464aa3075e27a1b6aa4dbb684330f1a88649345\n",
      "0xdb21d3076da066a237bc4b3d1015a812e065e8cf81dbf5a1f3a0c2c479c6e408\n",
      "0x840c754aab98f800c7206171bd58b2ea88cca0944b968635157a55821473a9a9\n",
      "0x16606e74946d2d5489f617276729c8b8f0926d3d11ee62d5bfba7b7758a85848\n",
      "0xfdd0e82c780c3ea15ee5087e597f81be2cedb22b8d4ed87cf6084fa15c679789\n",
      "0x093cfae6c111bc579874dafdf174e4f496bd29d1d208dc613930fbbfec9b949b\n",
      "0x9f7fee0fb48256ab9733ca60c822f742b1270077ca5499cef9f50720e0aa9f53\n",
      "0x2fcf29e3d84899a2b645e70a1a465cc78ddeccf6d4f1b920a8a297d2001c18c4\n",
      "0x6a4bad10f0fe204efbe7a9f59d7c4e58d1748b46e8753944bb3f5ba8447dcb27\n",
      "0xfcda596eeb599004066bbc9c448d6a44231916c912d6b6f993a288ae02aac7d3\n",
      "0x12c7e7f5d3d79657b006daa8635920da417b8659db782d27e648dd6d03e33387\n"
     ]
    }
   ],
   "source": [
    "i = 0\n",
    "for line in open(filtered_dataset_path):\n",
    "    transactionHash = json.loads(line)[\"receipt\"][\"logs\"][0][\"transactionHash\"]\n",
    "    print(transactionHash)\n",
    "    i+=1\n",
    "    if i> 10: break"
   ]
  },
  {
   "cell_type": "markdown",
   "metadata": {},
   "source": [
    "# Fetch pools activity\n",
    "https://docs.etherscan.io/api-endpoints/accounts\n",
    "\n"
   ]
  },
  {
   "cell_type": "markdown",
   "metadata": {},
   "source": [
    "# Min Max block "
   ]
  },
  {
   "cell_type": "code",
   "execution_count": 83,
   "metadata": {},
   "outputs": [],
   "source": [
    "mins = {}\n",
    "maxs = {}\n",
    "\n",
    "for line in open(filtered_dataset_path):\n",
    "    data =  json.loads(line)\n",
    "    pairs = path_to_pairs(data[\"path\"],from_addresses=True)\n",
    "    block_numbers = [int(x[\"blockNumber\"],16) for x in data[\"receipt\"][\"logs\"]]\n",
    "    for p in pairs :\n",
    "        if p not in mins:\n",
    "            mins[p] = np.inf\n",
    "        if p not in maxs:\n",
    "            maxs[p] = -np.inf\n",
    "        mins[p] = min(block_numbers+[mins[p]])\n",
    "        maxs[p] = max(block_numbers+[maxs[p]])\n",
    "ranges = {p:(mins[p],maxs[p]) for p in mins}"
   ]
  },
  {
   "cell_type": "code",
   "execution_count": 84,
   "metadata": {},
   "outputs": [
    {
     "data": {
      "text/plain": [
       "{'XRT_WETH': (10401045, 11702035),\n",
       " 'RWS_XRT': (10401045, 11706601),\n",
       " 'RWS_WETH': (10401082, 11706601),\n",
       " 'YAM_Curve': (10642027, 11707754),\n",
       " 'YAM_WETH': (10642027, 11707754),\n",
       " 'WETH_Curve': (10642111, 11707711),\n",
       " 'sUSD_WETH': (10694309, 11680635),\n",
       " 'sUSD_$BASED': (10694309, 11709002),\n",
       " '$BASED_WETH': (10694428, 11709002),\n",
       " 'LCX_WETH': (10821194, 11707777),\n",
       " 'LCX_REVV': (10821194, 11709662),\n",
       " 'REVV_WETH': (10821224, 11709662),\n",
       " 'XFI_XSP': (10895389, 11644328),\n",
       " 'XFI_WETH': (10895389, 11505775),\n",
       " 'XSP_WETH': (10895392, 11644328)}"
      ]
     },
     "execution_count": 84,
     "metadata": {},
     "output_type": "execute_result"
    }
   ],
   "source": [
    "ranges"
   ]
  },
  {
   "cell_type": "code",
   "execution_count": 85,
   "metadata": {},
   "outputs": [
    {
     "name": "stdout",
     "output_type": "stream",
     "text": [
      "XRT_WETH  spans over :  1300990  blocks\n",
      "RWS_XRT  spans over :  1305556  blocks\n",
      "RWS_WETH  spans over :  1305519  blocks\n",
      "YAM_Curve  spans over :  1065727  blocks\n",
      "YAM_WETH  spans over :  1065727  blocks\n",
      "WETH_Curve  spans over :  1065600  blocks\n",
      "sUSD_WETH  spans over :  986326  blocks\n",
      "sUSD_$BASED  spans over :  1014693  blocks\n",
      "$BASED_WETH  spans over :  1014574  blocks\n",
      "LCX_WETH  spans over :  886583  blocks\n",
      "LCX_REVV  spans over :  888468  blocks\n",
      "REVV_WETH  spans over :  888438  blocks\n",
      "XFI_XSP  spans over :  748939  blocks\n",
      "XFI_WETH  spans over :  610386  blocks\n",
      "XSP_WETH  spans over :  748936  blocks\n"
     ]
    }
   ],
   "source": [
    "for p in ranges:\n",
    "    print(p, \" spans over : \",ranges[p][1]-ranges[p][0],\" blocks\")"
   ]
  },
  {
   "cell_type": "code",
   "execution_count": 7,
   "metadata": {},
   "outputs": [],
   "source": [
    "API_KEY = \"719J19A1G4KIXBP2CP8ADRYBJQ2JQBCMVA\""
   ]
  },
  {
   "cell_type": "code",
   "execution_count": 97,
   "metadata": {},
   "outputs": [],
   "source": [
    "# found them manually\n",
    "pool_addresses = { \"XRT_WETH\" : \"0xc02aaa39b223fe8d0a0e5c4f27ead9083c756cc2?a=0x3185626c14acb9531d19560decb9d3e5e80681b1\"\n",
    "    \n",
    "}"
   ]
  },
  {
   "cell_type": "code",
   "execution_count": 102,
   "metadata": {},
   "outputs": [],
   "source": [
    "pair_name = \"XRT_WETH\"\n",
    "min_b,max_b = ranges[pair_name]\n",
    "req = f\"https://api.etherscan.io/api?module=account&action=txlist&address={pool_addresses[pair_name]}&startblock={min_b-10}&endblock={min_b+1}&page=1&offset=10000&sort=asc&apikey={API_KEY}\""
   ]
  },
  {
   "cell_type": "code",
   "execution_count": 103,
   "metadata": {},
   "outputs": [
    {
     "data": {
      "text/plain": [
       "'https://api.etherscan.io/api?module=account&action=txlist&address=0xc02aaa39b223fe8d0a0e5c4f27ead9083c756cc2?a=0x3185626c14acb9531d19560decb9d3e5e80681b1&startblock=10401035&endblock=10401046&page=1&offset=10000&sort=asc&apikey=719J19A1G4KIXBP2CP8ADRYBJQ2JQBCMVA'"
      ]
     },
     "execution_count": 103,
     "metadata": {},
     "output_type": "execute_result"
    }
   ],
   "source": [
    "req"
   ]
  },
  {
   "cell_type": "code",
   "execution_count": 104,
   "metadata": {},
   "outputs": [
    {
     "data": {
      "text/plain": [
       "10401045"
      ]
     },
     "execution_count": 104,
     "metadata": {},
     "output_type": "execute_result"
    }
   ],
   "source": [
    "min_b"
   ]
  },
  {
   "cell_type": "code",
   "execution_count": null,
   "metadata": {},
   "outputs": [],
   "source": []
  },
  {
   "cell_type": "code",
   "execution_count": null,
   "metadata": {},
   "outputs": [],
   "source": []
  },
  {
   "cell_type": "code",
   "execution_count": 89,
   "metadata": {},
   "outputs": [],
   "source": [
    "pool_address = \"0xc02aaa39b223fe8d0a0e5c4f27ead9083c756cc2?a=0x3185626c14acb9531d19560decb9d3e5e80681b1\"\n",
    "url = f\"https://api.etherscan.io/api?module=account&action=txlist&address={pool_address}&sort=asc\""
   ]
  },
  {
   "cell_type": "code",
   "execution_count": 1,
   "metadata": {},
   "outputs": [
    {
     "data": {
      "text/plain": [
       "'https://api.etherscan.io/api?module=account&action=txlist&address=0xC02aaA39b223FE8D0A0e5C4F27eAD9083C756Cc2&sort=asc'"
      ]
     },
     "execution_count": 1,
     "metadata": {},
     "output_type": "execute_result"
    }
   ],
   "source": [
    "a = \"0xC02aaA39b223FE8D0A0e5C4F27eAD9083C756Cc2\"\n",
    "f\"https://api.etherscan.io/api?module=account&action=txlist&address={a}&sort=asc\""
   ]
  },
  {
   "cell_type": "code",
   "execution_count": 91,
   "metadata": {},
   "outputs": [
    {
     "data": {
      "text/plain": [
       "datetime.datetime(2021, 9, 22, 23, 59, 47)"
      ]
     },
     "execution_count": 91,
     "metadata": {},
     "output_type": "execute_result"
    }
   ],
   "source": [
    "datetime.fromtimestamp(1632347987)"
   ]
  },
  {
   "cell_type": "code",
   "execution_count": null,
   "metadata": {},
   "outputs": [],
   "source": []
  },
  {
   "cell_type": "markdown",
   "metadata": {},
   "source": [
    "# The Graph"
   ]
  },
  {
   "cell_type": "code",
   "execution_count": null,
   "metadata": {},
   "outputs": [],
   "source": [
    "{\n",
    "  swap(id : \"0x2ec2e027c93f2e8c5dd0522387894a1524b046310f0d4906c85f08ede16264d7-0\")\n",
    "  {\n",
    "    amount0In\n",
    "    amount1In\n",
    "    amount0Out\n",
    "    amount1Out\n",
    "    }\n",
    "  }"
   ]
  },
  {
   "cell_type": "code",
   "execution_count": null,
   "metadata": {},
   "outputs": [],
   "source": [
    "{\n",
    "  transaction(id : \"0x2ec2e027c93f2e8c5dd0522387894a1524b046310f0d4906c85f08ede16264d7\"){\n",
    "    id \n",
    "    blockNumber\n",
    "    timestamp\n",
    "    swaps {\n",
    "      id\n",
    "    }\n",
    "  }\n",
    "  \n",
    "}"
   ]
  }
 ],
 "metadata": {
  "kernelspec": {
   "display_name": "Python 3",
   "language": "python",
   "name": "python3"
  },
  "language_info": {
   "codemirror_mode": {
    "name": "ipython",
    "version": 3
   },
   "file_extension": ".py",
   "mimetype": "text/x-python",
   "name": "python",
   "nbconvert_exporter": "python",
   "pygments_lexer": "ipython3",
   "version": "3.8.5"
  }
 },
 "nbformat": 4,
 "nbformat_minor": 4
}
